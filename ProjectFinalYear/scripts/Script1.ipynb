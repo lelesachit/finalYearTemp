{
 "cells": [
  {
   "cell_type": "code",
   "execution_count": 1,
   "metadata": {},
   "outputs": [],
   "source": [
    "import os\n",
    "import pandas as pd\n",
    "\n",
    "# Define the directory containing your text files\n",
    "directory = r'C:\\Users\\Sachit\\Documents\\Symbiosis\\Fourth Year\\ProjectFinalYear\\Textfiles'\n",
    "\n",
    "# Define the directory to save the CSV file\n",
    "output_dir = 'data'\n",
    "\n",
    "# Create the 'data' directory if it doesn't exist\n",
    "if not os.path.exists(output_dir):\n",
    "    os.makedirs(output_dir)\n",
    "\n",
    "# Initialize an empty list to store the data\n",
    "data = []\n",
    "\n",
    "# Iterate over all files in the directory\n",
    "for filename in os.listdir(directory):\n",
    "    if filename.endswith(\".txt\"):  # Make sure it's a text file\n",
    "        # Extract the date from the filename (assuming it's the date)\n",
    "        date = os.path.splitext(filename)[0]\n",
    "        \n",
    "        # Read the content of the file\n",
    "        with open(os.path.join(directory, filename), 'r') as file:\n",
    "            content = file.read()\n",
    "\n",
    "        # Append the date and content as a row to the data list\n",
    "        data.append([date, content])\n",
    "\n",
    "# Convert the list to a DataFrame\n",
    "df = pd.DataFrame(data, columns=[\"Date\", \"Content\"])\n"
   ]
  },
  {
   "cell_type": "code",
   "execution_count": 2,
   "metadata": {},
   "outputs": [
    {
     "name": "stdout",
     "output_type": "stream",
     "text": [
      "CSV file has been created successfully in data.\n"
     ]
    }
   ],
   "source": [
    "# Convert the 'date_of_week' to a valid date format by replacing underscores with slashes or hyphens\n",
    "df['Date'] = df['Date'].str.replace('_', '-')\n",
    "\n",
    "# Now convert it to datetime using pandas\n",
    "df['Date'] = pd.to_datetime(df['Date'], format='%d-%m-%Y')\n",
    "# Save the DataFrame as a CSV file in the 'data' directory\n",
    "csv_path = os.path.join(output_dir, 'output_file.csv')\n",
    "df.to_csv(csv_path, index=False)\n",
    "\n",
    "print(f\"CSV file has been created successfully in {output_dir}.\")\n",
    "\n"
   ]
  }
 ],
 "metadata": {
  "kernelspec": {
   "display_name": "base",
   "language": "python",
   "name": "python3"
  },
  "language_info": {
   "codemirror_mode": {
    "name": "ipython",
    "version": 3
   },
   "file_extension": ".py",
   "mimetype": "text/x-python",
   "name": "python",
   "nbconvert_exporter": "python",
   "pygments_lexer": "ipython3",
   "version": "3.9.12"
  }
 },
 "nbformat": 4,
 "nbformat_minor": 2
}

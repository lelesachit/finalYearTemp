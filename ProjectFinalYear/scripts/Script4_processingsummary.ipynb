{
 "cells": [
  {
   "cell_type": "code",
   "execution_count": 8,
   "metadata": {},
   "outputs": [],
   "source": [
    "import pandas as pd\n",
    "\n",
    "df = pd.read_csv(r'C:\\Users\\Sachit\\Documents\\Symbiosis\\Fourth Year\\ProjectFinalYear\\scripts\\data\\output_file.csv')"
   ]
  },
  {
   "cell_type": "code",
   "execution_count": 9,
   "metadata": {},
   "outputs": [
    {
     "name": "stdout",
     "output_type": "stream",
     "text": [
      "         Date                                            Content\n",
      "0  09-06-2023  India equity markets end the week in green des...\n",
      "1  16-06-2023  Banking Index reaches new highs as Indian mark...\n",
      "2  30-06-2023  Positive Global cues and resilience of the Ind...\n",
      "3  07-07-2023  Indian equity markets logged weekly gains desp...\n",
      "4  14-07-2023  Indian equity markets logged weekly gains on s...\n"
     ]
    }
   ],
   "source": [
    "df = df.loc[:, ~df.columns.str.contains('^Unnamed')]\n",
    "print(df.head())"
   ]
  },
  {
   "cell_type": "code",
   "execution_count": 10,
   "metadata": {},
   "outputs": [
    {
     "name": "stdout",
     "output_type": "stream",
     "text": [
      "(63, 2)\n"
     ]
    }
   ],
   "source": [
    "print(df.shape)"
   ]
  },
  {
   "cell_type": "code",
   "execution_count": 11,
   "metadata": {},
   "outputs": [
    {
     "name": "stdout",
     "output_type": "stream",
     "text": [
      "          Date                                            Content  \\\n",
      "0   09-06-2023  India equity markets end the week in green des...   \n",
      "1   16-06-2023  Banking Index reaches new highs as Indian mark...   \n",
      "2   30-06-2023  Positive Global cues and resilience of the Ind...   \n",
      "3   07-07-2023  Indian equity markets logged weekly gains desp...   \n",
      "4   14-07-2023  Indian equity markets logged weekly gains on s...   \n",
      "..         ...                                                ...   \n",
      "58  02-08-2024  An Eventful Week Ends Flat for Global & Domest...   \n",
      "59  09-08-2024  Indian Equities Dip Amid Global Weakness; Mixe...   \n",
      "60  16-08-2024  Global Markets Surge, Domestic Markets Witness...   \n",
      "61  23-08-2024  Indian Equities Gain Momentum on Global Optimi...   \n",
      "62  30-08-2024  Sector Gains & Earnings Drive Mixed OutcomesTh...   \n",
      "\n",
      "                                      Content_cleaned  \n",
      "0   india equity market end week green despite pro...  \n",
      "1   banking index reach new high indian market ral...  \n",
      "2   positive global cue resilience indian economy ...  \n",
      "3   indian equity market logged weekly gain despit...  \n",
      "4   indian equity market logged weekly gain strong...  \n",
      "..                                                ...  \n",
      "58  eventful week end flat global domestic marketi...  \n",
      "59  indian equity dip amid global weakness mixed p...  \n",
      "60  global market surge domestic market witness ri...  \n",
      "61  indian equity gain momentum global optimism an...  \n",
      "62  sector gain earnings drive mixed outcomesthis ...  \n",
      "\n",
      "[63 rows x 3 columns]\n"
     ]
    }
   ],
   "source": [
    "import pandas as pd\n",
    "from nltk.corpus import stopwords\n",
    "from nltk.stem import WordNetLemmatizer\n",
    "import re\n",
    "lemmatizer = WordNetLemmatizer()\n",
    "stop_words = set(stopwords.words('english'))\n",
    "\n",
    "# Convert non-string values to empty strings\n",
    "df['Content_cleaned'] = df['Content']\n",
    "\n",
    "# Step 2: Define a function to clean the text\n",
    "def clean_text(text):\n",
    "    # Convert to lowercase\n",
    "    text = text.lower()\n",
    "    # Keep numbers and alphabetic characters\n",
    "    text = re.sub(r'[^a-z0-9\\s.%]', '', text)\n",
    "    # Remove stopwords and lemmatize\n",
    "    text = ' '.join([lemmatizer.lemmatize(word) for word in text.split() if word not in stop_words])\n",
    "    return text\n",
    "\n",
    "# Step 3: Apply the cleaning function to the 'Summary_cleaned' column\n",
    "df['Content_cleaned'] = df['Content_cleaned'].apply(clean_text)\n",
    "\n",
    "print(df)"
   ]
  },
  {
   "cell_type": "code",
   "execution_count": 12,
   "metadata": {},
   "outputs": [
    {
     "name": "stdout",
     "output_type": "stream",
     "text": [
      "         Date                                            Content  \\\n",
      "0  09-06-2023  India equity markets end the week in green des...   \n",
      "1  16-06-2023  Banking Index reaches new highs as Indian mark...   \n",
      "2  30-06-2023  Positive Global cues and resilience of the Ind...   \n",
      "3  07-07-2023  Indian equity markets logged weekly gains desp...   \n",
      "4  14-07-2023  Indian equity markets logged weekly gains on s...   \n",
      "\n",
      "                                     Content_cleaned  \n",
      "0  india equity market end week green despite pro...  \n",
      "1  banking index reach new high indian market ral...  \n",
      "2  positive global cue resilience indian economy ...  \n",
      "3  indian equity market logged weekly gain despit...  \n",
      "4  indian equity market logged weekly gain strong...  \n",
      "(63, 3)\n"
     ]
    }
   ],
   "source": [
    "print(df.head())\n",
    "print(df.shape)"
   ]
  },
  {
   "cell_type": "code",
   "execution_count": 13,
   "metadata": {},
   "outputs": [],
   "source": [
    "df.to_csv(r'C:\\Users\\Sachit\\Documents\\Symbiosis\\Fourth Year\\ProjectFinalYear\\scripts\\data\\output_file_cleaned.csv')"
   ]
  },
  {
   "cell_type": "code",
   "execution_count": null,
   "metadata": {},
   "outputs": [],
   "source": []
  }
 ],
 "metadata": {
  "kernelspec": {
   "display_name": "base",
   "language": "python",
   "name": "python3"
  },
  "language_info": {
   "codemirror_mode": {
    "name": "ipython",
    "version": 3
   },
   "file_extension": ".py",
   "mimetype": "text/x-python",
   "name": "python",
   "nbconvert_exporter": "python",
   "pygments_lexer": "ipython3",
   "version": "3.9.12"
  }
 },
 "nbformat": 4,
 "nbformat_minor": 2
}

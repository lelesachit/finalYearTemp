{
 "cells": [
  {
   "cell_type": "code",
   "execution_count": 1,
   "metadata": {},
   "outputs": [],
   "source": [
    "import pandas as pd\n",
    "\n",
    "olhcdata = pd.read_csv(r'C:\\Users\\Sachit\\Documents\\Symbiosis\\Fourth Year\\ProjectFinalYear\\scripts\\data\\Nifty_All_Historical_Data.csv')\n",
    "summdata = pd.read_csv(r'C:\\Users\\Sachit\\Documents\\Symbiosis\\Fourth Year\\ProjectFinalYear\\scripts\\data\\output_file_cleaned.csv')"
   ]
  },
  {
   "cell_type": "code",
   "execution_count": 2,
   "metadata": {},
   "outputs": [
    {
     "name": "stdout",
     "output_type": "stream",
     "text": [
      "(63, 55)\n",
      "(63, 4)\n"
     ]
    }
   ],
   "source": [
    "print(olhcdata.shape)\n",
    "print(summdata.shape)"
   ]
  },
  {
   "cell_type": "code",
   "execution_count": 4,
   "metadata": {},
   "outputs": [
    {
     "name": "stdout",
     "output_type": "stream",
     "text": [
      "         Date                                            Content  \\\n",
      "0  04-06-2023  India equity markets end the week in green des...   \n",
      "1  11-06-2023  Banking Index reaches new highs as Indian mark...   \n",
      "2  25-06-2023  Positive Global cues and resilience of the Ind...   \n",
      "3  02-07-2023  Indian equity markets logged weekly gains desp...   \n",
      "4  09-07-2023  Indian equity markets logged weekly gains on s...   \n",
      "\n",
      "                                     Content_cleaned  \n",
      "0  india equity market end week green despite pro...  \n",
      "1  banking index reach new high indian market ral...  \n",
      "2  positive global cue resilience indian economy ...  \n",
      "3  indian equity market logged weekly gain despit...  \n",
      "4  indian equity market logged weekly gain strong...  \n",
      "(63, 3)\n",
      "          Date                                            Content  \\\n",
      "58  28-07-2024  An Eventful Week Ends Flat for Global & Domest...   \n",
      "59  04-08-2024  Indian Equities Dip Amid Global Weakness; Mixe...   \n",
      "60  11-08-2024  Global Markets Surge, Domestic Markets Witness...   \n",
      "61  18-08-2024  Indian Equities Gain Momentum on Global Optimi...   \n",
      "62  25-08-2024  Sector Gains & Earnings Drive Mixed OutcomesTh...   \n",
      "\n",
      "                                      Content_cleaned  \n",
      "58  eventful week end flat global domestic marketi...  \n",
      "59  indian equity dip amid global weakness mixed p...  \n",
      "60  global market surge domestic market witness ri...  \n",
      "61  indian equity gain momentum global optimism an...  \n",
      "62  sector gain earnings drive mixed outcomesthis ...  \n"
     ]
    }
   ],
   "source": [
    "summdata['Date'] = olhcdata['Date']\n",
    "\n",
    "summdata.drop(['Unnamed: 0'], axis=1, inplace=True)\n",
    "print(summdata.head())\n",
    "print(summdata.shape)\n",
    "print(summdata.tail())"
   ]
  },
  {
   "cell_type": "code",
   "execution_count": 5,
   "metadata": {},
   "outputs": [],
   "source": [
    "summdata.to_csv(r'C:\\Users\\Sachit\\Documents\\Symbiosis\\Fourth Year\\ProjectFinalYear\\scripts\\data\\output_file_cleaned.csv', index=False)"
   ]
  },
  {
   "cell_type": "code",
   "execution_count": null,
   "metadata": {},
   "outputs": [],
   "source": []
  }
 ],
 "metadata": {
  "kernelspec": {
   "display_name": "base",
   "language": "python",
   "name": "python3"
  },
  "language_info": {
   "codemirror_mode": {
    "name": "ipython",
    "version": 3
   },
   "file_extension": ".py",
   "mimetype": "text/x-python",
   "name": "python",
   "nbconvert_exporter": "python",
   "pygments_lexer": "ipython3",
   "version": "3.9.12"
  }
 },
 "nbformat": 4,
 "nbformat_minor": 2
}

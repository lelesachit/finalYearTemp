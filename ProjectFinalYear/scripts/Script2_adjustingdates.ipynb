{
 "cells": [
  {
   "cell_type": "markdown",
   "metadata": {},
   "source": [
    "Original Data: Nifty Bank Data "
   ]
  },
  {
   "cell_type": "markdown",
   "metadata": {},
   "source": [
    "Nifty 50 "
   ]
  },
  {
   "cell_type": "code",
   "execution_count": 11,
   "metadata": {},
   "outputs": [
    {
     "name": "stdout",
     "output_type": "stream",
     "text": [
      "Rows with dates not present in csv1 have been removed from csv2.\n"
     ]
    }
   ],
   "source": [
    "import pandas as pd\n",
    "\n",
    "# Step 1: Load the two CSV files\n",
    "df1 = pd.read_csv(r'C:\\Users\\Sachit\\Documents\\Symbiosis\\Fourth Year\\ProjectFinalYear\\scripts\\data\\Nifty_Bank_Historical_Data.csv')\n",
    "df2 = pd.read_csv(r'C:\\Users\\Sachit\\Documents\\Symbiosis\\Fourth Year\\ProjectFinalYear\\NiftyData\\Nifty 50 Historical Data.csv')\n",
    "\n",
    "# Step 2: Convert the 'Date' columns to datetime if necessary\n",
    "df1['Date'] = pd.to_datetime(df1['Date'], format='%d-%m-%Y')\n",
    "df2['Date'] = pd.to_datetime(df2['Date'], format='%d-%m-%Y')\n",
    "\n",
    "# Step 3: Identify the dates in csv2 that are not in csv1\n",
    "dates_to_remove = df2[~df2['Date'].isin(df1['Date'])]['Date']\n",
    "\n",
    "# Step 4: Remove these rows from df2\n",
    "df2_filtered = df2[~df2['Date'].isin(dates_to_remove)]\n",
    "\n",
    "# Save the updated df2 to a new CSV file\n",
    "df2_filtered.to_csv(r'C:\\Users\\Sachit\\Documents\\Symbiosis\\Fourth Year\\ProjectFinalYear\\scripts\\data\\Nifty_50_Historical_Data.csv', index=False)\n",
    "\n",
    "print(\"Rows with dates not present in csv1 have been removed from csv2.\")\n"
   ]
  },
  {
   "cell_type": "markdown",
   "metadata": {},
   "source": [
    "Nifty FMCG"
   ]
  },
  {
   "cell_type": "code",
   "execution_count": 12,
   "metadata": {},
   "outputs": [
    {
     "name": "stdout",
     "output_type": "stream",
     "text": [
      "Rows with dates not present in csv1 have been removed from csv2.\n"
     ]
    }
   ],
   "source": [
    "import pandas as pd\n",
    "\n",
    "# Step 1: Load the two CSV files\n",
    "df1 = pd.read_csv(r'C:\\Users\\Sachit\\Documents\\Symbiosis\\Fourth Year\\ProjectFinalYear\\scripts\\data\\Nifty_Bank_Historical_Data.csv')\n",
    "df2 = pd.read_csv(r'C:\\Users\\Sachit\\Documents\\Symbiosis\\Fourth Year\\ProjectFinalYear\\NiftyData\\Nifty FMCG Historical Data.csv')\n",
    "\n",
    "# Step 2: Convert the 'Date' columns to datetime if necessary\n",
    "df1['Date'] = pd.to_datetime(df1['Date'], format='%d-%m-%Y')\n",
    "df2['Date'] = pd.to_datetime(df2['Date'], format='%d-%m-%Y')\n",
    "\n",
    "# Step 3: Identify the dates in csv2 that are not in csv1\n",
    "dates_to_remove = df2[~df2['Date'].isin(df1['Date'])]['Date']\n",
    "\n",
    "# Step 4: Remove these rows from df2\n",
    "df2_filtered = df2[~df2['Date'].isin(dates_to_remove)]\n",
    "\n",
    "# Save the updated df2 to a new CSV file\n",
    "df2_filtered.to_csv(r'C:\\Users\\Sachit\\Documents\\Symbiosis\\Fourth Year\\ProjectFinalYear\\scripts\\data\\Nifty_FMCG_Historical_Data.csv', index=False)\n",
    "\n",
    "print(\"Rows with dates not present in csv1 have been removed from csv2.\")\n"
   ]
  },
  {
   "cell_type": "markdown",
   "metadata": {},
   "source": [
    "Nifty IT"
   ]
  },
  {
   "cell_type": "code",
   "execution_count": 1,
   "metadata": {},
   "outputs": [
    {
     "name": "stdout",
     "output_type": "stream",
     "text": [
      "Rows with dates not present in csv1 have been removed from csv2.\n"
     ]
    }
   ],
   "source": [
    "import pandas as pd\n",
    "\n",
    "# Step 1: Load the two CSV files\n",
    "df1 = pd.read_csv(r'C:\\Users\\Sachit\\Documents\\Symbiosis\\Fourth Year\\ProjectFinalYear\\scripts\\data\\Nifty_Bank_Historical_Data.csv')\n",
    "df2 = pd.read_csv(r'C:\\Users\\Sachit\\Documents\\Symbiosis\\Fourth Year\\ProjectFinalYear\\NiftyData\\Nifty IT Historical Data.csv')\n",
    "\n",
    "# Step 2: Convert the 'Date' columns to datetime if necessary\n",
    "df1['Date'] = pd.to_datetime(df1['Date'], format='%d-%m-%Y')\n",
    "df2['Date'] = pd.to_datetime(df2['Date'], format='%d-%m-%Y')\n",
    "\n",
    "# Step 3: Identify the dates in csv2 that are not in csv1\n",
    "dates_to_remove = df2[~df2['Date'].isin(df1['Date'])]['Date']\n",
    "\n",
    "# Step 4: Remove these rows from df2\n",
    "df2_filtered = df2[~df2['Date'].isin(dates_to_remove)]\n",
    "\n",
    "# Save the updated df2 to a new CSV file\n",
    "df2_filtered.to_csv(r'C:\\Users\\Sachit\\Documents\\Symbiosis\\Fourth Year\\ProjectFinalYear\\scripts\\data\\Nifty_IT_Historical_Data.csv', index=False)\n",
    "\n",
    "print(\"Rows with dates not present in csv1 have been removed from csv2.\")\n"
   ]
  },
  {
   "cell_type": "markdown",
   "metadata": {},
   "source": [
    "Nifty Media"
   ]
  },
  {
   "cell_type": "code",
   "execution_count": 2,
   "metadata": {},
   "outputs": [
    {
     "name": "stdout",
     "output_type": "stream",
     "text": [
      "Rows with dates not present in csv1 have been removed from csv2.\n"
     ]
    }
   ],
   "source": [
    "import pandas as pd\n",
    "\n",
    "# Step 1: Load the two CSV files\n",
    "df1 = pd.read_csv(r'C:\\Users\\Sachit\\Documents\\Symbiosis\\Fourth Year\\ProjectFinalYear\\scripts\\data\\Nifty_Bank_Historical_Data.csv')\n",
    "df2 = pd.read_csv(r'C:\\Users\\Sachit\\Documents\\Symbiosis\\Fourth Year\\ProjectFinalYear\\NiftyData\\Nifty Media Historical Data.csv')\n",
    "\n",
    "# Step 2: Convert the 'Date' columns to datetime if necessary\n",
    "df1['Date'] = pd.to_datetime(df1['Date'], format='%d-%m-%Y')\n",
    "df2['Date'] = pd.to_datetime(df2['Date'], format='%d-%m-%Y')\n",
    "\n",
    "# Step 3: Identify the dates in csv2 that are not in csv1\n",
    "dates_to_remove = df2[~df2['Date'].isin(df1['Date'])]['Date']\n",
    "\n",
    "# Step 4: Remove these rows from df2\n",
    "df2_filtered = df2[~df2['Date'].isin(dates_to_remove)]\n",
    "\n",
    "# Save the updated df2 to a new CSV file\n",
    "df2_filtered.to_csv(r'C:\\Users\\Sachit\\Documents\\Symbiosis\\Fourth Year\\ProjectFinalYear\\scripts\\data\\Nifty_Media_Historical_Data.csv', index=False)\n",
    "\n",
    "print(\"Rows with dates not present in csv1 have been removed from csv2.\")\n"
   ]
  },
  {
   "cell_type": "markdown",
   "metadata": {},
   "source": [
    "Nifty Midcap "
   ]
  },
  {
   "cell_type": "code",
   "execution_count": 3,
   "metadata": {},
   "outputs": [
    {
     "name": "stdout",
     "output_type": "stream",
     "text": [
      "Rows with dates not present in csv1 have been removed from csv2.\n"
     ]
    }
   ],
   "source": [
    "import pandas as pd\n",
    "\n",
    "# Step 1: Load the two CSV files\n",
    "df1 = pd.read_csv(r'C:\\Users\\Sachit\\Documents\\Symbiosis\\Fourth Year\\ProjectFinalYear\\scripts\\data\\Nifty_Bank_Historical_Data.csv')\n",
    "df2 = pd.read_csv(r'C:\\Users\\Sachit\\Documents\\Symbiosis\\Fourth Year\\ProjectFinalYear\\NiftyData\\Nifty Midcap 150 Historical Data.csv')\n",
    "\n",
    "# Step 2: Convert the 'Date' columns to datetime if necessary\n",
    "df1['Date'] = pd.to_datetime(df1['Date'], format='%d-%m-%Y')\n",
    "df2['Date'] = pd.to_datetime(df2['Date'], format='%d-%m-%Y')\n",
    "\n",
    "# Step 3: Identify the dates in csv2 that are not in csv1\n",
    "dates_to_remove = df2[~df2['Date'].isin(df1['Date'])]['Date']\n",
    "\n",
    "# Step 4: Remove these rows from df2\n",
    "df2_filtered = df2[~df2['Date'].isin(dates_to_remove)]\n",
    "\n",
    "# Save the updated df2 to a new CSV file\n",
    "df2_filtered.to_csv(r'C:\\Users\\Sachit\\Documents\\Symbiosis\\Fourth Year\\ProjectFinalYear\\scripts\\data\\Nifty_Midcap_Historical_Data.csv', index=False)\n",
    "\n",
    "print(\"Rows with dates not present in csv1 have been removed from csv2.\")\n"
   ]
  },
  {
   "cell_type": "markdown",
   "metadata": {},
   "source": [
    "Nifty Pharma"
   ]
  },
  {
   "cell_type": "code",
   "execution_count": 4,
   "metadata": {},
   "outputs": [
    {
     "name": "stdout",
     "output_type": "stream",
     "text": [
      "Rows with dates not present in csv1 have been removed from csv2.\n"
     ]
    }
   ],
   "source": [
    "import pandas as pd\n",
    "\n",
    "# Step 1: Load the two CSV files\n",
    "df1 = pd.read_csv(r'C:\\Users\\Sachit\\Documents\\Symbiosis\\Fourth Year\\ProjectFinalYear\\scripts\\data\\Nifty_Bank_Historical_Data.csv')\n",
    "df2 = pd.read_csv(r'C:\\Users\\Sachit\\Documents\\Symbiosis\\Fourth Year\\ProjectFinalYear\\NiftyData\\Nifty Pharma Historical Data.csv')\n",
    "\n",
    "# Step 2: Convert the 'Date' columns to datetime if necessary\n",
    "df1['Date'] = pd.to_datetime(df1['Date'], format='%d-%m-%Y')\n",
    "df2['Date'] = pd.to_datetime(df2['Date'], format='%d-%m-%Y')\n",
    "\n",
    "# Step 3: Identify the dates in csv2 that are not in csv1\n",
    "dates_to_remove = df2[~df2['Date'].isin(df1['Date'])]['Date']\n",
    "\n",
    "# Step 4: Remove these rows from df2\n",
    "df2_filtered = df2[~df2['Date'].isin(dates_to_remove)]\n",
    "\n",
    "# Save the updated df2 to a new CSV file\n",
    "df2_filtered.to_csv(r'C:\\Users\\Sachit\\Documents\\Symbiosis\\Fourth Year\\ProjectFinalYear\\scripts\\data\\Nifty_Pharma_Historical_Data.csv', index=False)\n",
    "\n",
    "print(\"Rows with dates not present in csv1 have been removed from csv2.\")\n"
   ]
  },
  {
   "cell_type": "markdown",
   "metadata": {},
   "source": [
    "Nifty SmallCap "
   ]
  },
  {
   "cell_type": "code",
   "execution_count": 5,
   "metadata": {},
   "outputs": [
    {
     "name": "stdout",
     "output_type": "stream",
     "text": [
      "Rows with dates not present in csv1 have been removed from csv2.\n"
     ]
    }
   ],
   "source": [
    "import pandas as pd\n",
    "\n",
    "# Step 1: Load the two CSV files\n",
    "df1 = pd.read_csv(r'C:\\Users\\Sachit\\Documents\\Symbiosis\\Fourth Year\\ProjectFinalYear\\scripts\\data\\Nifty_Bank_Historical_Data.csv')\n",
    "df2 = pd.read_csv(r'C:\\Users\\Sachit\\Documents\\Symbiosis\\Fourth Year\\ProjectFinalYear\\NiftyData\\Nifty Smallcap 250 Historical Data.csv')\n",
    "\n",
    "# Step 2: Convert the 'Date' columns to datetime if necessary\n",
    "df1['Date'] = pd.to_datetime(df1['Date'], format='%d-%m-%Y')\n",
    "df2['Date'] = pd.to_datetime(df2['Date'], format='%d-%m-%Y')\n",
    "\n",
    "# Step 3: Identify the dates in csv2 that are not in csv1\n",
    "dates_to_remove = df2[~df2['Date'].isin(df1['Date'])]['Date']\n",
    "\n",
    "# Step 4: Remove these rows from df2\n",
    "df2_filtered = df2[~df2['Date'].isin(dates_to_remove)]\n",
    "\n",
    "# Save the updated df2 to a new CSV file\n",
    "df2_filtered.to_csv(r'C:\\Users\\Sachit\\Documents\\Symbiosis\\Fourth Year\\ProjectFinalYear\\scripts\\data\\Nifty_Smallcap_Historical_Data.csv', index=False)\n",
    "\n",
    "print(\"Rows with dates not present in csv1 have been removed from csv2.\")\n"
   ]
  },
  {
   "cell_type": "markdown",
   "metadata": {},
   "source": [
    "Nifty PSU"
   ]
  },
  {
   "cell_type": "code",
   "execution_count": 6,
   "metadata": {},
   "outputs": [
    {
     "name": "stdout",
     "output_type": "stream",
     "text": [
      "Rows with dates not present in csv1 have been removed from csv2.\n"
     ]
    }
   ],
   "source": [
    "import pandas as pd\n",
    "\n",
    "# Step 1: Load the two CSV files\n",
    "df1 = pd.read_csv(r'C:\\Users\\Sachit\\Documents\\Symbiosis\\Fourth Year\\ProjectFinalYear\\scripts\\data\\Nifty_Bank_Historical_Data.csv')\n",
    "df2 = pd.read_csv(r'C:\\Users\\Sachit\\Documents\\Symbiosis\\Fourth Year\\ProjectFinalYear\\NiftyData\\Nifty PSU Bank Historical Data.csv')\n",
    "\n",
    "# Step 2: Convert the 'Date' columns to datetime if necessary\n",
    "df1['Date'] = pd.to_datetime(df1['Date'], format='%d-%m-%Y')\n",
    "df2['Date'] = pd.to_datetime(df2['Date'], format='%d-%m-%Y')\n",
    "\n",
    "# Step 3: Identify the dates in csv2 that are not in csv1\n",
    "dates_to_remove = df2[~df2['Date'].isin(df1['Date'])]['Date']\n",
    "\n",
    "# Step 4: Remove these rows from df2\n",
    "df2_filtered = df2[~df2['Date'].isin(dates_to_remove)]\n",
    "\n",
    "# Save the updated df2 to a new CSV file\n",
    "df2_filtered.to_csv(r'C:\\Users\\Sachit\\Documents\\Symbiosis\\Fourth Year\\ProjectFinalYear\\scripts\\data\\Nifty_PSU_Historical_Data.csv', index=False)\n",
    "\n",
    "print(\"Rows with dates not present in csv1 have been removed from csv2.\")\n"
   ]
  }
 ],
 "metadata": {
  "kernelspec": {
   "display_name": "base",
   "language": "python",
   "name": "python3"
  },
  "language_info": {
   "codemirror_mode": {
    "name": "ipython",
    "version": 3
   },
   "file_extension": ".py",
   "mimetype": "text/x-python",
   "name": "python",
   "nbconvert_exporter": "python",
   "pygments_lexer": "ipython3",
   "version": "3.9.12"
  }
 },
 "nbformat": 4,
 "nbformat_minor": 2
}
